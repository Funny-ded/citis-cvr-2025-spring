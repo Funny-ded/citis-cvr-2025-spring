{
 "cells": [
  {
   "cell_type": "code",
   "execution_count": null,
   "metadata": {},
   "outputs": [
    {
     "data": {
      "text/plain": [
       "-1"
      ]
     },
     "execution_count": 23,
     "metadata": {},
     "output_type": "execute_result"
    },
    {
     "ename": "",
     "evalue": "",
     "output_type": "error",
     "traceback": [
      "\u001b[1;31mThe Kernel crashed while executing code in the current cell or a previous cell. \n",
      "\u001b[1;31mPlease review the code in the cell(s) to identify a possible cause of the failure. \n",
      "\u001b[1;31mClick <a href='https://aka.ms/vscodeJupyterKernelCrash'>here</a> for more info. \n",
      "\u001b[1;31mView Jupyter <a href='command:jupyter.viewOutput'>log</a> for further details."
     ]
    }
   ],
   "source": [
    "import cv2\n",
    "import time\n",
    "\n",
    "cam = cv2.VideoCapture(0)\n",
    "\n",
    "shift = 30\n",
    "\n",
    "bpm = 120\n",
    "\n",
    "#i = 0\n",
    "\n",
    "start_time = time.time()\n",
    "\n",
    "while (True):\n",
    "    success, frame = cam.read()\n",
    "\n",
    "    if (not success):\n",
    "        break\n",
    "\n",
    "    i = int((time.time() - start_time) / 60 * bpm)\n",
    "\n",
    "    if (i % 4 == 0):\n",
    "        frame = 255 - frame\n",
    "    \n",
    "    if (i % 4 == 1):\n",
    "        frame[:, :, 2] = 20\n",
    "    \n",
    "    if (i % 4 == 2):\n",
    "        frame[:, :, 1] -= 120\n",
    "\n",
    "    h, w, _ = frame.shape\n",
    "\n",
    "    if (i % 4 == 3):\n",
    "        frame[:, 0 : w - shift, 2] = frame[:, shift : , 2]\n",
    "\n",
    "    #i += 1\n",
    "\n",
    "    cv2.imshow(\"window\", frame)\n",
    "    key = cv2.waitKey(30)# & 0xFF\n",
    "\n",
    "    if (key == ord('q')):\n",
    "        break\n",
    "\n",
    "cam.release()\n",
    "cv2.destroyAllWindows()\n",
    "cv2.waitKey(30)"
   ]
  },
  {
   "cell_type": "code",
   "execution_count": null,
   "metadata": {},
   "outputs": [],
   "source": []
  },
  {
   "cell_type": "code",
   "execution_count": null,
   "metadata": {},
   "outputs": [],
   "source": []
  },
  {
   "cell_type": "code",
   "execution_count": null,
   "metadata": {},
   "outputs": [],
   "source": []
  },
  {
   "cell_type": "code",
   "execution_count": null,
   "metadata": {},
   "outputs": [],
   "source": []
  }
 ],
 "metadata": {
  "kernelspec": {
   "display_name": "Python 3",
   "language": "python",
   "name": "python3"
  },
  "language_info": {
   "codemirror_mode": {
    "name": "ipython",
    "version": 3
   },
   "file_extension": ".py",
   "mimetype": "text/x-python",
   "name": "python",
   "nbconvert_exporter": "python",
   "pygments_lexer": "ipython3",
   "version": "3.13.1"
  }
 },
 "nbformat": 4,
 "nbformat_minor": 2
}
