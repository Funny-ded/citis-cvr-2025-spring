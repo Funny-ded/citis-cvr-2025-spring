{
 "cells": [
  {
   "cell_type": "code",
   "execution_count": 1,
   "metadata": {},
   "outputs": [
    {
     "ename": "ImportError",
     "evalue": "/lib/libgdal.so.30: undefined symbol: TIFFReadRGBATileExt, version LIBTIFF_4.0",
     "output_type": "error",
     "traceback": [
      "\u001b[0;31m---------------------------------------------------------------------------\u001b[0m",
      "\u001b[0;31mImportError\u001b[0m                               Traceback (most recent call last)",
      "Cell \u001b[0;32mIn[1], line 2\u001b[0m\n\u001b[1;32m      1\u001b[0m \u001b[38;5;28;01mimport\u001b[39;00m \u001b[38;5;21;01mnumpy\u001b[39;00m \u001b[38;5;28;01mas\u001b[39;00m \u001b[38;5;21;01mnp\u001b[39;00m\n\u001b[0;32m----> 2\u001b[0m \u001b[38;5;28;01mimport\u001b[39;00m \u001b[38;5;21;01mcv2\u001b[39;00m\n\u001b[1;32m      3\u001b[0m \u001b[38;5;28;01mimport\u001b[39;00m \u001b[38;5;21;01mmatplotlib\u001b[39;00m\u001b[38;5;21;01m.\u001b[39;00m\u001b[38;5;21;01mpyplot\u001b[39;00m \u001b[38;5;28;01mas\u001b[39;00m \u001b[38;5;21;01mplt\u001b[39;00m\n\u001b[1;32m      5\u001b[0m \u001b[38;5;28;01mdef\u001b[39;00m \u001b[38;5;21mplot_dist\u001b[39m(channel):\n",
      "\u001b[0;31mImportError\u001b[0m: /lib/libgdal.so.30: undefined symbol: TIFFReadRGBATileExt, version LIBTIFF_4.0"
     ]
    }
   ],
   "source": [
    "import numpy as np\n",
    "import cv2\n",
    "import matplotlib.pyplot as plt\n",
    "\n",
    "def plot_dist(channel):\n",
    "    fig, ax = plt.subplots()\n",
    "    ax.hist(channel.ravel(), 25, [0,256])\n",
    "    \n",
    "    fig.canvas.draw()\n",
    "    dist = np.array(fig.canvas.renderer.buffer_rgba())\n",
    "    plt.close()\n",
    "    \n",
    "    return dist\n",
    "\n",
    "cv2.namedWindow(\"frame\")\n",
    "\n",
    "def nothing(x):\n",
    "    pass\n",
    "\n",
    "cv2.createTrackbar(\"hs\", \"frame\", 256, 512, nothing)\n",
    "cv2.createTrackbar(\"ss\", \"frame\", 256, 512, nothing)\n",
    "cv2.createTrackbar(\"vs\", \"frame\", 256, 512, nothing)\n",
    "\n",
    "video_path = \"unicycle.mp4\"\n",
    "cam = cv2.VideoCapture(0)#video_path)\n",
    "\n",
    "while (True):\n",
    "    success, frame = cam.read()\n",
    "    \n",
    "    if (success == False):\n",
    "        cam.release()\n",
    "        cam = cv2.VideoCapture(video_path)\n",
    "        \n",
    "        continue\n",
    "    \n",
    "    hsv_frame = cv2.cvtColor(frame, cv2.COLOR_BGR2HSV)\n",
    "    \n",
    "    hs = cv2.getTrackbarPos(\"hs\", \"frame\")\n",
    "    ss = cv2.getTrackbarPos(\"ss\", \"frame\")\n",
    "    vs = cv2.getTrackbarPos(\"vs\", \"frame\")\n",
    "\n",
    "    hsv_frame[:, :, 0] = cv2.add(hsv_frame[:, :, 0], hs - 256)\n",
    "    hsv_frame[:, :, 1] = cv2.add(hsv_frame[:, :, 1], ss - 256)\n",
    "    hsv_frame[:, :, 2] = cv2.add(hsv_frame[:, :, 2], vs - 256)\n",
    "        \n",
    "    dist_0 = plot_dist(hsv_frame[::30, ::30, 0])\n",
    "    dist_1 = plot_dist(hsv_frame[::30, ::30, 1])\n",
    "    dist_2 = plot_dist(hsv_frame[::30, ::30, 2])\n",
    "    \n",
    "    dists = np.concatenate((dist_0, dist_1, dist_2), axis=0)\n",
    "    \n",
    "    cv2.imshow(\"frame\", cv2.cvtColor(hsv_frame, cv2.COLOR_HSV2BGR))\n",
    "    cv2.imshow(\"dist_0\", dists)\n",
    "    \n",
    "    key = cv2.waitKey(380) & 0xFF\n",
    "    \n",
    "    if (key == ord('q')):\n",
    "        break\n",
    "\n",
    "cam.release()\n",
    "cv2.destroyAllWindows()\n",
    "cv2.waitKey(10)"
   ]
  },
  {
   "cell_type": "code",
   "execution_count": 6,
   "metadata": {},
   "outputs": [
    {
     "ename": "ImportError",
     "evalue": "/lib/libgdal.so.30: undefined symbol: TIFFReadRGBATileExt, version LIBTIFF_4.0",
     "output_type": "error",
     "traceback": [
      "\u001b[0;31m---------------------------------------------------------------------------\u001b[0m",
      "\u001b[0;31mImportError\u001b[0m                               Traceback (most recent call last)",
      "Cell \u001b[0;32mIn[6], line 2\u001b[0m\n\u001b[1;32m      1\u001b[0m \u001b[38;5;28;01mimport\u001b[39;00m \u001b[38;5;21;01mnumpy\u001b[39;00m \u001b[38;5;28;01mas\u001b[39;00m \u001b[38;5;21;01mnp\u001b[39;00m\n\u001b[0;32m----> 2\u001b[0m \u001b[38;5;28;01mimport\u001b[39;00m \u001b[38;5;21;01mcv2\u001b[39;00m\n\u001b[1;32m      3\u001b[0m \u001b[38;5;28;01mimport\u001b[39;00m \u001b[38;5;21;01mmatplotlib\u001b[39;00m\u001b[38;5;21;01m.\u001b[39;00m\u001b[38;5;21;01mpyplot\u001b[39;00m \u001b[38;5;28;01mas\u001b[39;00m \u001b[38;5;21;01mplt\u001b[39;00m\n\u001b[1;32m      5\u001b[0m cv2\u001b[38;5;241m.\u001b[39mnamedWindow(\u001b[38;5;124m\"\u001b[39m\u001b[38;5;124mframe\u001b[39m\u001b[38;5;124m\"\u001b[39m)\n",
      "\u001b[0;31mImportError\u001b[0m: /lib/libgdal.so.30: undefined symbol: TIFFReadRGBATileExt, version LIBTIFF_4.0"
     ]
    }
   ],
   "source": [
    "import numpy as np\n",
    "import cv2\n",
    "import matplotlib.pyplot as plt\n",
    "\n",
    "cv2.namedWindow(\"frame\")\n",
    "\n",
    "cam = cv2.VideoCapture(0)\n",
    "\n",
    "while (True):\n",
    "    success, frame = cam.read()\n",
    "    \n",
    "    if (success == False):\n",
    "        cam.release()\n",
    "        cam = cv2.VideoCapture(video_path)\n",
    "        \n",
    "        continue\n",
    "    \n",
    "    hsv_frame = cv2.cvtColor(frame, cv2.COLOR_BGR2HSV)\n",
    "    \n",
    "    value = hsv_frame[:, :, 1]\n",
    "    \n",
    "    cv2.imshow(\"v\", value)\n",
    "    \n",
    "    ret, otsu = cv2.threshold(value, 0, 255, cv2.THRESH_BINARY + cv2.THRESH_OTSU)\n",
    "    _, th = cv2.threshold(value, 103, 255, cv2.THRESH_BINARY)\n",
    "    \n",
    "    dist_0 = plot_dist(value[::30, ::30])\n",
    "    \n",
    "    cv2.imshow(\"frame\", cv2.cvtColor(hsv_frame, cv2.COLOR_HSV2BGR))\n",
    "    cv2.imshow(\"dist_0\", dist_0)\n",
    "    cv2.imshow(\"otsu\", otsu)\n",
    "    cv2.imshow(\"th\", th)\n",
    "    print(ret)\n",
    "    \n",
    "    key = cv2.waitKey(380) & 0xFF\n",
    "    \n",
    "    if (key == ord('q')):\n",
    "        break\n",
    "\n",
    "cam.release()\n",
    "cv2.destroyAllWindows()\n",
    "cv2.waitKey(10)"
   ]
  },
  {
   "cell_type": "code",
   "execution_count": null,
   "metadata": {},
   "outputs": [],
   "source": []
  }
 ],
 "metadata": {
  "kernelspec": {
   "display_name": "Python 3",
   "language": "python",
   "name": "python3"
  },
  "language_info": {
   "codemirror_mode": {
    "name": "ipython",
    "version": 3
   },
   "file_extension": ".py",
   "mimetype": "text/x-python",
   "name": "python",
   "nbconvert_exporter": "python",
   "pygments_lexer": "ipython3",
   "version": "3.10.13"
  }
 },
 "nbformat": 4,
 "nbformat_minor": 2
}
